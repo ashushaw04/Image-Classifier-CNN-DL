{
 "cells": [
  {
   "cell_type": "markdown",
   "metadata": {},
   "source": [
    "## Building a Dog and Cat Classfier Using CNN using Keras Library"
   ]
  },
  {
   "cell_type": "code",
   "execution_count": 2,
   "metadata": {},
   "outputs": [
    {
     "name": "stderr",
     "output_type": "stream",
     "text": [
      "Using TensorFlow backend.\n"
     ]
    }
   ],
   "source": [
    "# Importing the Keras libraries and packages\n",
    "from keras.models import Sequential\n",
    "from keras.layers import Convolution2D\n",
    "from keras.layers import MaxPooling2D\n",
    "from keras.layers import Flatten\n",
    "from keras.layers import Dense\n",
    "import warnings\n",
    "warnings.filterwarnings('ignore')"
   ]
  },
  {
   "cell_type": "code",
   "execution_count": 3,
   "metadata": {},
   "outputs": [],
   "source": [
    "# Initialising the CNN\n",
    "classifier = Sequential()"
   ]
  },
  {
   "cell_type": "code",
   "execution_count": 4,
   "metadata": {},
   "outputs": [],
   "source": [
    "# Step 1 - Convolution\n",
    "#parameters\n",
    "#param1 32,3,3  32--> the no of feature maps 32, 3 x 3 feature detector\n",
    "#param2 input shape --> 64 x 64 is the size of image and 3 is the no of channels RGB \n",
    "classifier.add(Convolution2D(32, 3, 3, input_shape = (64, 64, 3), activation = 'relu'))"
   ]
  },
  {
   "cell_type": "code",
   "execution_count": 5,
   "metadata": {},
   "outputs": [],
   "source": [
    "# Step 2 - Pooling\n",
    "classifier.add(MaxPooling2D(pool_size = (2, 2)))"
   ]
  },
  {
   "cell_type": "code",
   "execution_count": 6,
   "metadata": {},
   "outputs": [],
   "source": [
    "# Adding a second convolutional layer\n",
    "\n",
    "#this is basically added t improve the accuracy \n",
    "#comment this to see the prev accuaracy\n",
    "# here the inout is now on pooled feature map thus the input size is reduced to 3 x 3\n",
    "classifier.add(Convolution2D(32, 3, 3, activation = 'relu'))\n",
    "classifier.add(MaxPooling2D(pool_size = (2, 2)))"
   ]
  },
  {
   "cell_type": "code",
   "execution_count": 7,
   "metadata": {},
   "outputs": [],
   "source": [
    "# Step 3 - Flattening\n",
    "classifier.add(Flatten())"
   ]
  },
  {
   "cell_type": "code",
   "execution_count": 8,
   "metadata": {},
   "outputs": [],
   "source": [
    "# Step 4 - Full connection\n",
    "#output dim is the parameter for the no of nodes \n",
    "# this is the inner hidden layer\n",
    "classifier.add(Dense(output_dim = 128, activation = 'relu'))\n",
    "\n",
    "#this is the final outout layer \n",
    "#so the output node is 1 either a dog or a cat\n",
    "classifier.add(Dense(output_dim = 1, activation = 'sigmoid'))\n"
   ]
  },
  {
   "cell_type": "code",
   "execution_count": 9,
   "metadata": {},
   "outputs": [],
   "source": [
    "# Compiling the CNN\n",
    "#here  we use binary_cross_entropy becuase we have a two output only \n",
    "#category_cross_entropy for more than two outputs available\n",
    "classifier.compile(optimizer = 'adam', loss = 'binary_crossentropy', metrics = ['accuracy'])"
   ]
  },
  {
   "cell_type": "code",
   "execution_count": 10,
   "metadata": {},
   "outputs": [],
   "source": [
    "# Part 2 - Fitting the CNN to the images\n",
    "#this is used for image augmentation to prevent overfitting\n",
    "#basically we imprve the dataset if we only have less images \n",
    "\n",
    "from keras.preprocessing.image import ImageDataGenerator\n",
    "\n"
   ]
  },
  {
   "cell_type": "code",
   "execution_count": 11,
   "metadata": {},
   "outputs": [],
   "source": [
    "train_datagen = ImageDataGenerator(rescale = 1./255,\n",
    "                                   shear_range = 0.2,\n",
    "                                   zoom_range = 0.2,\n",
    "                                   horizontal_flip = True)\n",
    "\n"
   ]
  },
  {
   "cell_type": "code",
   "execution_count": 12,
   "metadata": {},
   "outputs": [],
   "source": [
    "#the target size is same as the input image size i.e --> 64 x 64"
   ]
  },
  {
   "cell_type": "code",
   "execution_count": 13,
   "metadata": {},
   "outputs": [
    {
     "name": "stdout",
     "output_type": "stream",
     "text": [
      "Found 8000 images belonging to 2 classes.\n"
     ]
    }
   ],
   "source": [
    "test_datagen = ImageDataGenerator(rescale = 1./255)\n",
    "\n",
    "training_set = train_datagen.flow_from_directory('dataset/training_set',\n",
    "                                                 target_size = (64, 64),\n",
    "                                                 batch_size = 32,\n",
    "                                                 class_mode = 'binary')\n",
    "\n"
   ]
  },
  {
   "cell_type": "code",
   "execution_count": 14,
   "metadata": {},
   "outputs": [
    {
     "name": "stdout",
     "output_type": "stream",
     "text": [
      "Found 2000 images belonging to 2 classes.\n"
     ]
    }
   ],
   "source": [
    "test_set = test_datagen.flow_from_directory('dataset/test_set',\n",
    "                                            target_size = (64, 64),\n",
    "                                            batch_size = 32,\n",
    "                                            class_mode = 'binary')\n",
    "\n"
   ]
  },
  {
   "cell_type": "code",
   "execution_count": null,
   "metadata": {},
   "outputs": [
    {
     "name": "stdout",
     "output_type": "stream",
     "text": [
      "Epoch 1/25\n",
      "250/250 [==============================] - 733s 3s/step - loss: 0.6639 - acc: 0.5902 - val_loss: 0.6489 - val_acc: 0.6103\n",
      "Epoch 2/25\n",
      "250/250 [==============================] - 473s 2s/step - loss: 0.6067 - acc: 0.6769 - val_loss: 0.5586 - val_acc: 0.7211\n",
      "Epoch 3/25\n",
      "250/250 [==============================] - 407s 2s/step - loss: 0.5623 - acc: 0.7105 - val_loss: 0.5367 - val_acc: 0.7360\n",
      "Epoch 4/25\n",
      "250/250 [==============================] - 401s 2s/step - loss: 0.5295 - acc: 0.7394 - val_loss: 0.5393 - val_acc: 0.7365\n",
      "Epoch 5/25\n",
      "250/250 [==============================] - 400s 2s/step - loss: 0.5069 - acc: 0.7502 - val_loss: 0.5409 - val_acc: 0.7409\n",
      "Epoch 6/25\n",
      "250/250 [==============================] - 400s 2s/step - loss: 0.4806 - acc: 0.7714 - val_loss: 0.4940 - val_acc: 0.7565\n",
      "Epoch 7/25\n",
      "250/250 [==============================] - 402s 2s/step - loss: 0.4641 - acc: 0.7772 - val_loss: 0.4817 - val_acc: 0.7781\n",
      "Epoch 8/25\n",
      "250/250 [==============================] - 401s 2s/step - loss: 0.4466 - acc: 0.7873 - val_loss: 0.4612 - val_acc: 0.7814\n",
      "Epoch 9/25\n",
      "250/250 [==============================] - 400s 2s/step - loss: 0.4391 - acc: 0.7945 - val_loss: 0.4708 - val_acc: 0.7833\n",
      "Epoch 10/25\n",
      "250/250 [==============================] - 398s 2s/step - loss: 0.4200 - acc: 0.8004 - val_loss: 0.4672 - val_acc: 0.7888\n",
      "Epoch 11/25\n",
      "250/250 [==============================] - 398s 2s/step - loss: 0.4115 - acc: 0.8081 - val_loss: 0.4830 - val_acc: 0.7892\n",
      "Epoch 12/25\n",
      "249/250 [============================>.] - ETA: 0s - loss: 0.3920 - acc: 0.8215"
     ]
    }
   ],
   "source": [
    "classifier.fit_generator(training_set,\n",
    "                         samples_per_epoch = 8000,\n",
    "                         nb_epoch = 25,\n",
    "                         validation_data = test_set,\n",
    "                         nb_val_samples = 2000)"
   ]
  },
  {
   "cell_type": "code",
   "execution_count": null,
   "metadata": {},
   "outputs": [],
   "source": [
    "#Note to improve the accuracy we can improve the targer size to 128 x 128 or higher \n",
    "#but thiss will take more time"
   ]
  },
  {
   "cell_type": "code",
   "execution_count": null,
   "metadata": {},
   "outputs": [],
   "source": []
  },
  {
   "cell_type": "code",
   "execution_count": null,
   "metadata": {},
   "outputs": [],
   "source": []
  }
 ],
 "metadata": {
  "kernelspec": {
   "display_name": "Python 3",
   "language": "python",
   "name": "python3"
  },
  "language_info": {
   "codemirror_mode": {
    "name": "ipython",
    "version": 3
   },
   "file_extension": ".py",
   "mimetype": "text/x-python",
   "name": "python",
   "nbconvert_exporter": "python",
   "pygments_lexer": "ipython3",
   "version": "3.5.6"
  }
 },
 "nbformat": 4,
 "nbformat_minor": 2
}
