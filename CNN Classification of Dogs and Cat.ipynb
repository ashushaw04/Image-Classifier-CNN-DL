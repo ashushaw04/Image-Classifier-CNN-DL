{
 "cells": [
  {
   "cell_type": "markdown",
   "metadata": {},
   "source": [
    "## Building a Dog and Cat Classfier Using CNN using Keras Library"
   ]
  },
  {
   "cell_type": "code",
   "execution_count": 2,
   "metadata": {},
   "outputs": [
    {
     "name": "stderr",
     "output_type": "stream",
     "text": [
      "Using TensorFlow backend.\n"
     ]
    }
   ],
   "source": [
    "# Importing the Keras libraries and packages\n",
    "from keras.models import Sequential\n",
    "from keras.layers import Convolution2D\n",
    "from keras.layers import MaxPooling2D\n",
    "from keras.layers import Flatten\n",
    "from keras.layers import Dense\n",
    "import warnings\n",
    "warnings.filterwarnings('ignore')"
   ]
  },
  {
   "cell_type": "code",
   "execution_count": 3,
   "metadata": {},
   "outputs": [],
   "source": [
    "# Initialising the CNN\n",
    "classifier = Sequential()"
   ]
  },
  {
   "cell_type": "code",
   "execution_count": 4,
   "metadata": {},
   "outputs": [],
   "source": [
    "# Step 1 - Convolution\n",
    "#parameters\n",
    "#param1 32,3,3  32--> the no of feature maps 32, 3 x 3 feature detector\n",
    "#param2 input shape --> 64 x 64 is the size of image and 3 is the no of channels RGB \n",
    "classifier.add(Convolution2D(32, 3, 3, input_shape = (64, 64, 3), activation = 'relu'))"
   ]
  },
  {
   "cell_type": "code",
   "execution_count": 4,
   "metadata": {},
   "outputs": [],
   "source": [
    "# Step 2 - Pooling\n",
    "classifier.add(MaxPooling2D(pool_size = (2, 2)))"
   ]
  },
  {
   "cell_type": "code",
   "execution_count": 5,
   "metadata": {},
   "outputs": [
    {
     "name": "stderr",
     "output_type": "stream",
     "text": [
      "C:\\Users\\om sai ram\\Anaconda3\\lib\\site-packages\\ipykernel_launcher.py:2: UserWarning: Update your `Conv2D` call to the Keras 2 API: `Conv2D(32, (3, 3), activation=\"relu\")`\n",
      "  \n"
     ]
    }
   ],
   "source": [
    "# Adding a second convolutional layer\n",
    "\n",
    "#this is basically added t improve the accuracy \n",
    "#comment this to see the prev accuaracy\n",
    "# here the inout is now on pooled feature map thus the input size is reduced to 3 x 3\n",
    "classifier.add(Convolution2D(32, 3, 3, activation = 'relu'))\n",
    "classifier.add(MaxPooling2D(pool_size = (2, 2)))"
   ]
  },
  {
   "cell_type": "code",
   "execution_count": 6,
   "metadata": {},
   "outputs": [],
   "source": [
    "# Step 3 - Flattening\n",
    "classifier.add(Flatten())"
   ]
  },
  {
   "cell_type": "code",
   "execution_count": 7,
   "metadata": {},
   "outputs": [
    {
     "name": "stderr",
     "output_type": "stream",
     "text": [
      "C:\\Users\\om sai ram\\Anaconda3\\lib\\site-packages\\ipykernel_launcher.py:2: UserWarning: Update your `Dense` call to the Keras 2 API: `Dense(activation=\"relu\", units=128)`\n",
      "  \n",
      "C:\\Users\\om sai ram\\Anaconda3\\lib\\site-packages\\ipykernel_launcher.py:3: UserWarning: Update your `Dense` call to the Keras 2 API: `Dense(activation=\"sigmoid\", units=1)`\n",
      "  This is separate from the ipykernel package so we can avoid doing imports until\n"
     ]
    }
   ],
   "source": [
    "# Step 4 - Full connection\n",
    "#output dim is the parameter for the no of nodes \n",
    "# this is the inner hidden layer\n",
    "classifier.add(Dense(output_dim = 128, activation = 'relu'))\n",
    "\n",
    "#this is the final outout layer \n",
    "#so the output node is 1 either a dog or a cat\n",
    "classifier.add(Dense(output_dim = 1, activation = 'sigmoid'))\n"
   ]
  },
  {
   "cell_type": "code",
   "execution_count": 8,
   "metadata": {},
   "outputs": [],
   "source": [
    "# Compiling the CNN\n",
    "#here  we use binary_cross_entropy becuase we have a two output only \n",
    "#category_cross_entropy for more than two outputs available\n",
    "classifier.compile(optimizer = 'adam', loss = 'binary_crossentropy', metrics = ['accuracy'])"
   ]
  },
  {
   "cell_type": "code",
   "execution_count": 9,
   "metadata": {},
   "outputs": [],
   "source": [
    "# Part 2 - Fitting the CNN to the images\n",
    "#this is used for image augmentation to prevent overfitting\n",
    "#basically we imprve the dataset if we only have less images \n",
    "\n",
    "from keras.preprocessing.image import ImageDataGenerator\n",
    "\n"
   ]
  },
  {
   "cell_type": "code",
   "execution_count": 10,
   "metadata": {},
   "outputs": [],
   "source": [
    "train_datagen = ImageDataGenerator(rescale = 1./255,\n",
    "                                   shear_range = 0.2,\n",
    "                                   zoom_range = 0.2,\n",
    "                                   horizontal_flip = True)\n",
    "\n"
   ]
  },
  {
   "cell_type": "code",
   "execution_count": null,
   "metadata": {},
   "outputs": [],
   "source": [
    "#the target size is same as the input image size i.e --> 64 x 64"
   ]
  },
  {
   "cell_type": "code",
   "execution_count": 11,
   "metadata": {},
   "outputs": [
    {
     "name": "stdout",
     "output_type": "stream",
     "text": [
      "Found 8000 images belonging to 2 classes.\n"
     ]
    }
   ],
   "source": [
    "test_datagen = ImageDataGenerator(rescale = 1./255)\n",
    "\n",
    "training_set = train_datagen.flow_from_directory('dataset/training_set',\n",
    "                                                 target_size = (64, 64),\n",
    "                                                 batch_size = 32,\n",
    "                                                 class_mode = 'binary')\n",
    "\n"
   ]
  },
  {
   "cell_type": "code",
   "execution_count": null,
   "metadata": {},
   "outputs": [
    {
     "name": "stdout",
     "output_type": "stream",
     "text": [
      "Found 2000 images belonging to 2 classes.\n"
     ]
    }
   ],
   "source": [
    "test_set = test_datagen.flow_from_directory('dataset/test_set',\n",
    "                                            target_size = (64, 64),\n",
    "                                            batch_size = 32,\n",
    "                                            class_mode = 'binary')\n",
    "\n"
   ]
  },
  {
   "cell_type": "code",
   "execution_count": null,
   "metadata": {},
   "outputs": [
    {
     "name": "stderr",
     "output_type": "stream",
     "text": [
      "C:\\Users\\om sai ram\\Anaconda3\\lib\\site-packages\\ipykernel_launcher.py:5: UserWarning: The semantics of the Keras 2 argument `steps_per_epoch` is not the same as the Keras 1 argument `samples_per_epoch`. `steps_per_epoch` is the number of batches to draw from the generator at each epoch. Basically steps_per_epoch = samples_per_epoch/batch_size. Similarly `nb_val_samples`->`validation_steps` and `val_samples`->`steps` arguments have changed. Update your method calls accordingly.\n",
      "  \"\"\"\n",
      "C:\\Users\\om sai ram\\Anaconda3\\lib\\site-packages\\ipykernel_launcher.py:5: UserWarning: Update your `fit_generator` call to the Keras 2 API: `fit_generator(<keras_pre..., validation_data=<keras_pre..., steps_per_epoch=250, epochs=25, validation_steps=2000)`\n",
      "  \"\"\"\n"
     ]
    },
    {
     "name": "stdout",
     "output_type": "stream",
     "text": [
      "Epoch 1/25\n",
      "250/250 [==============================] - 884s 4s/step - loss: 0.6737 - acc: 0.5796 - val_loss: 0.6311 - val_acc: 0.6395\n",
      "Epoch 2/25\n",
      "250/250 [==============================] - 521s 2s/step - loss: 0.6039 - acc: 0.6739 - val_loss: 0.7128 - val_acc: 0.6277\n",
      "Epoch 3/25\n",
      "250/250 [==============================] - 405s 2s/step - loss: 0.5729 - acc: 0.7004 - val_loss: 0.5401 - val_acc: 0.7296\n",
      "Epoch 4/25\n",
      "250/250 [==============================] - 1674s 7s/step - loss: 0.5375 - acc: 0.7283 - val_loss: 0.5212 - val_acc: 0.7479\n",
      "Epoch 5/25\n",
      "250/250 [==============================] - 579s 2s/step - loss: 0.5093 - acc: 0.7456 - val_loss: 0.5022 - val_acc: 0.7559\n",
      "Epoch 6/25\n",
      "250/250 [==============================] - 546s 2s/step - loss: 0.4920 - acc: 0.7580 - val_loss: 0.5078 - val_acc: 0.7539\n",
      "Epoch 7/25\n",
      "250/250 [==============================] - 506s 2s/step - loss: 0.4751 - acc: 0.7725 - val_loss: 0.4712 - val_acc: 0.7903\n",
      "Epoch 8/25\n",
      "250/250 [==============================] - 562s 2s/step - loss: 0.4561 - acc: 0.7809 - val_loss: 0.4662 - val_acc: 0.7804\n",
      "Epoch 9/25\n",
      "250/250 [==============================] - 578s 2s/step - loss: 0.4401 - acc: 0.7940 - val_loss: 0.4634 - val_acc: 0.7925\n",
      "Epoch 10/25\n",
      "250/250 [==============================] - 559s 2s/step - loss: 0.4221 - acc: 0.8013 - val_loss: 0.4534 - val_acc: 0.7985\n",
      "Epoch 11/25\n",
      "250/250 [==============================] - 435s 2s/step - loss: 0.4071 - acc: 0.8115 - val_loss: 0.4589 - val_acc: 0.7992\n",
      "Epoch 12/25\n",
      "250/250 [==============================] - 431s 2s/step - loss: 0.4013 - acc: 0.8145 - val_loss: 0.4546 - val_acc: 0.7939\n",
      "Epoch 13/25\n",
      "250/250 [==============================] - 867s 3s/step - loss: 0.3910 - acc: 0.8224 - val_loss: 0.4870 - val_acc: 0.7719\n",
      "Epoch 14/25\n",
      "250/250 [==============================] - 1029s 4s/step - loss: 0.3828 - acc: 0.8272 - val_loss: 0.4706 - val_acc: 0.7962\n",
      "Epoch 15/25\n",
      "250/250 [==============================] - 734s 3s/step - loss: 0.3565 - acc: 0.8385 - val_loss: 0.4544 - val_acc: 0.7898\n",
      "Epoch 16/25\n",
      "249/250 [============================>.] - ETA: 0s - loss: 0.3399 - acc: 0.8496"
     ]
    }
   ],
   "source": [
    "classifier.fit_generator(training_set,\n",
    "                         samples_per_epoch = 8000,\n",
    "                         nb_epoch = 25,\n",
    "                         validation_data = test_set,\n",
    "                         nb_val_samples = 2000)"
   ]
  },
  {
   "cell_type": "code",
   "execution_count": null,
   "metadata": {},
   "outputs": [],
   "source": [
    "#Note to improve the accuracy we can improve the targer size to 128 x 128 or higher \n",
    "#but thiss will take more time"
   ]
  },
  {
   "cell_type": "code",
   "execution_count": null,
   "metadata": {},
   "outputs": [],
   "source": []
  },
  {
   "cell_type": "code",
   "execution_count": null,
   "metadata": {},
   "outputs": [],
   "source": []
  }
 ],
 "metadata": {
  "kernelspec": {
   "display_name": "Python 3",
   "language": "python",
   "name": "python3"
  },
  "language_info": {
   "codemirror_mode": {
    "name": "ipython",
    "version": 3
   },
   "file_extension": ".py",
   "mimetype": "text/x-python",
   "name": "python",
   "nbconvert_exporter": "python",
   "pygments_lexer": "ipython3",
   "version": "3.5.6"
  }
 },
 "nbformat": 4,
 "nbformat_minor": 2
}
